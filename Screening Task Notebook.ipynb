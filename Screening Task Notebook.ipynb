{
 "cells": [
  {
   "cell_type": "markdown",
   "id": "3a5560c4",
   "metadata": {},
   "source": [
    "# 1. Create a function in python to read the text file and replace specific content of the file.\n"
   ]
  },
  {
   "cell_type": "code",
   "execution_count": 2,
   "id": "c3c4f6ea",
   "metadata": {},
   "outputs": [],
   "source": [
    "def read_file(file_name,search_word, replace_word):\n",
    "    try: \n",
    "        with open(file_name,\"w\") as file:\n",
    "            file.write(input(\"Enter your sentence: \"))\n",
    "        with open(file_name,\"r\") as file:\n",
    "            word_file=file.read()\n",
    "            word_file = word_file.replace(search_word,replace_word)\n",
    "        with open(file_name,\"w\") as file:\n",
    "            file.write(word_file)\n",
    "    except FileNotFoundError as f:\n",
    "        print(\"Could not find the file you are trying to read.\")\n",
    "    return \"Text Replaced\""
   ]
  },
  {
   "cell_type": "code",
   "execution_count": 6,
   "id": "b522c6d3",
   "metadata": {},
   "outputs": [
    {
     "name": "stdout",
     "output_type": "stream",
     "text": [
      "Enter your sentence: This is a placement assignment\n"
     ]
    },
    {
     "data": {
      "text/plain": [
       "'Text Replaced'"
      ]
     },
     "execution_count": 6,
     "metadata": {},
     "output_type": "execute_result"
    }
   ],
   "source": [
    "read_file(\"Example.txt\",\"placement\",\"screening\")"
   ]
  },
  {
   "cell_type": "markdown",
   "id": "05bda554",
   "metadata": {},
   "source": [
    "# 2. Demonstrate use of abstract class, multiple inheritance and decorator in python using examples."
   ]
  },
  {
   "cell_type": "code",
   "execution_count": 7,
   "id": "977e7b05",
   "metadata": {},
   "outputs": [],
   "source": [
    "from abc import ABC,abstractmethod\n",
    "class Statistics(ABC):\n",
    "    @abstractmethod\n",
    "    def built(self):\n",
    "        pass\n",
    "class theoretical_stats(Statistics):\n",
    "    def built(self):\n",
    "        return \"measure theory is one of the part of theoretical_Statistics\"\n",
    "\n",
    "class applied_stats(Statistics):\n",
    "    def built(self):\n",
    "        return \"ML is the most natural example of applied_statistics\"\n",
    "\n",
    "class Bio_Stat(Statistics):\n",
    "    def built(self):\n",
    "        return \"Pharma Companies hire biostatisticians\"\n",
    "\n",
    "class Regression(Statistics):\n",
    "    def built(self):\n",
    "        return \"Regression is most used tool of Statistics\""
   ]
  },
  {
   "cell_type": "code",
   "execution_count": 8,
   "id": "5d82134a",
   "metadata": {},
   "outputs": [
    {
     "data": {
      "text/plain": [
       "'Regression is most used tool of Statistics'"
      ]
     },
     "execution_count": 8,
     "metadata": {},
     "output_type": "execute_result"
    }
   ],
   "source": [
    "S = Regression()\n",
    "S.built()"
   ]
  },
  {
   "cell_type": "code",
   "execution_count": 9,
   "id": "03d34d24",
   "metadata": {},
   "outputs": [
    {
     "data": {
      "text/plain": [
       "'Pharma Companies hire biostatisticians'"
      ]
     },
     "execution_count": 9,
     "metadata": {},
     "output_type": "execute_result"
    }
   ],
   "source": [
    "B = Bio_Stat()\n",
    "B.built()"
   ]
  },
  {
   "cell_type": "code",
   "execution_count": null,
   "id": "628ab9e4",
   "metadata": {},
   "outputs": [],
   "source": []
  }
 ],
 "metadata": {
  "kernelspec": {
   "display_name": "Python 3 (ipykernel)",
   "language": "python",
   "name": "python3"
  },
  "language_info": {
   "codemirror_mode": {
    "name": "ipython",
    "version": 3
   },
   "file_extension": ".py",
   "mimetype": "text/x-python",
   "name": "python",
   "nbconvert_exporter": "python",
   "pygments_lexer": "ipython3",
   "version": "3.9.12"
  }
 },
 "nbformat": 4,
 "nbformat_minor": 5
}
